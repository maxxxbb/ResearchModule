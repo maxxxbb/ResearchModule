{
 "cells": [
  {
   "attachments": {},
   "cell_type": "markdown",
   "metadata": {},
   "source": [
    "Do the regression with another outcome variable: work effort where we use working overtime as the measure (\"Do you work overtime?\" -> Yes/No)"
   ]
  },
  {
   "cell_type": "code",
   "execution_count": 1,
   "metadata": {},
   "outputs": [],
   "source": [
    "import pandas as pd\n",
    "import numpy as np\n",
    "import seaborn as sns\n",
    "import math\n",
    "\n",
    "import statsmodels.api as sm\n",
    "import statsmodels.formula.api as smf\n",
    "from statsmodels.formula.api import ols"
   ]
  },
  {
   "cell_type": "code",
   "execution_count": 2,
   "metadata": {},
   "outputs": [],
   "source": [
    "# define path: insert the path where the SOEP data is stored on your computer here\n",
    "from pathlib import Path\n",
    "# Maxie: /Volumes/dohmen_soep/SOEP-CORE.v36eu_STATA/Stata/raw\n",
    "# Max: C:/Users/max-admin/Desktop/Masterstudium/WiSe_22_23/Research_Module/SOEP-Data/Stata/raw\n",
    "data_folder = Path(\"C:/Users/max-admin/Desktop/Masterstudium/WiSe_22_23/Research_Module/SOEP-Data/Stata/raw\")\n",
    "# define relevant subsets of SOEP-data\n",
    "file_names = ['vp', 'wp']\n",
    "\n",
    "file_paths = [data_folder / f\"{file_name}.dta\" for file_name in file_names]\n",
    "# some controls are in gen data\n",
    "file_paths_2 = [data_folder / f\"{file_name}gen.dta\" for file_name in file_names]"
   ]
  },
  {
   "cell_type": "code",
   "execution_count": 3,
   "metadata": {},
   "outputs": [],
   "source": [
    "data05 = pd.read_stata(file_paths[0], columns=[\"pid\",\"hid\", \"syear\",\"vp12602\", \"vp12603\", \"vp12605\"]).set_index(['pid', 'hid'])\n",
    "df_05 = data05.rename(columns={ 'vp12602': 'take_revenge', 'vp12603': 'similar_problems', 'vp12605': 'insult_back'})"
   ]
  },
  {
   "cell_type": "code",
   "execution_count": 4,
   "metadata": {},
   "outputs": [],
   "source": [
    "data06 = pd.read_stata(file_paths[1], columns=[\"pid\", \"hid\", \"syear\",\"wp12402\", \"wp12401\", \"wp55\", \"wp5902\", 'wp43b01', \"wp43b03\", \"wp43b05\", \"wp43b07\" , \"wp4101\"]).set_index(['pid', 'hid'])\n",
    "df_06 = data06.rename(columns={\"wp12401\": \"gender\", \"wp12402\": \"year_birth\", 'wp43b01': \"recog_sup\", \"wp43b03\": \"recog_effort\", \"wp43b05\": \"recog_personal\", \"wp43b07\": \"recog_pay\", \"wp5902\": \"wage_lastmonth\", \"wp55\": \"overtime\", \"wp4101\" : 'commute_distance'})\n",
    "#'wp43b02': 'felt_recog_sup', 'wp43b04': 'felt_recog_effort', 'wp43b06': 'felt_recog_pay', \"wp43b03\": \"recog_effort\", \"wp43b05\": \"recog_personal\", \"wp43b07\": \"recog_pay\"\n",
    "#\"wp0102\": \"satisfaction_work\""
   ]
  },
  {
   "cell_type": "code",
   "execution_count": 5,
   "metadata": {},
   "outputs": [],
   "source": [
    "hours06 = pd.read_stata(file_paths_2[1], columns=[\"pid\",\"hid\", \"syear\", \"wvebzeit\", \"betr06\", \"wpsbil\", \"nace06\", \"werwzeit\", \"wbilzeit\"]).set_index(['pid', 'hid'])\n",
    "work06 = hours06.rename(columns={'wvebzeit': 'working_hours', \"betr06\": \"firmsize\", \"wpsbil\": \"school_degree\", \"nace06\": \"sector\", \"werwzeit\": \"tenure\" , \"wbilzeit\" : \"years_educ\"})"
   ]
  },
  {
   "cell_type": "code",
   "execution_count": 6,
   "metadata": {},
   "outputs": [],
   "source": [
    "# mapping for reciprocity questions: same scale for all\n",
    "reciprocity_questions_mapping = {\n",
    "    '[1] Trifft ueberhaupt nicht zu': 1,\n",
    "    '[2] Skala 1-7': 2,\n",
    "    '[3] Skala 1-7': 3,\n",
    "    '[4] Skala 1-7': 4,\n",
    "    '[5] Skala 1-7': 5,\n",
    "    '[6] Skala 1-7': 6,\n",
    "    '[7] Trifft voll zu': 7,\n",
    "    '[-1] keine Angabe': -1,\n",
    "}\n",
    "\n",
    "overtime_mapping = {\n",
    "    '[-2] trifft nicht zu': -2,\n",
    "    '[-1] keine Angabe': -1,\n",
    "    '[1] Ja': 1,\n",
    "    '[2] Nein': 2,\n",
    "    '[3] T.n.z., Selbstaendiger': 3,\n",
    "}\n",
    "## mapping for recognition questions: binary -> unfair treatment: No -> later 1 fair treatment: Yes -> 0\n",
    "recog_mapping = {\n",
    "    '[-2] trifft nicht zu': -2,\n",
    "    '[-1] keine Angabe': -1,\n",
    "    '[1] Ja': 2,\n",
    "    '[2] Nein': 1,\n",
    "}\n",
    "# felt recog mapping\n",
    "felt_recog_mapping = {\n",
    "    '[-2] trifft nicht zu': -2,\n",
    "    '[-1] keine Angabe': -1,\n",
    "    '[1] Gar nicht': 1,\n",
    "    '[2] Maessig': 2,\n",
    "    '[3] Stark': 3,\n",
    "    '[4] Sehr stark': 4,\n",
    "}\n",
    "# mapping for firmsize -> we need to recode this in a sensible way: jumps are the same: first change: selbstständig to 0\n",
    "firmsize_mapping = {\n",
    "    '[-2] trifft nicht zu': -2,\n",
    "    '[-1] keine Angabe': -1,\n",
    "    '[1] Unter  5': 1,\n",
    "    '[2] 5 bis 10': 2,\n",
    "    '[3] 11 bis unter 20': 3,\n",
    "    '[4] bis 90: unter 20': 4,\n",
    "    '[5] 91-04: 5 bis unter 20': 5,\n",
    "    '[6] 20 bis unter 100': 6,\n",
    "    '[7] 100 bis unter 200': 7,\n",
    "    '[8] bis 98: 20 bis unter 200': 8,\n",
    "    '[9] 200 bis unter 2000': 9,\n",
    "    '[10] 2000 und mehr': 10,\n",
    "    '[11] Selbstaendig-ohne Mitarb.': 0,\n",
    "}\n",
    "\n",
    "# mapping for sectors: only to easier remove negatives\n",
    "sector_map = {\n",
    "    \"[1] Landwirtschaft und  Jagd\": 1,\n",
    "    \"[2] Forstwirtschaft\": 2,\n",
    "    \"[5] Fischerei und Fischzucht\": 5,\n",
    "    \"[10] Kohlenbergbau, Torfgewinnung\": 10,\n",
    "    \"[11] Gewinnung von Erdöl und Erdgas, Erbringung damit verbundener Dienstleistungen\": 11,\n",
    "    \"[12] Bergbau auf Uran- und Thoriumerze\": 12,\n",
    "    \"[13] Erzbergbau\": 13,\n",
    "    \"[14] Gewinnung von Steinen und Erden, sonstiger Bergbau\": 14,\n",
    "    \"[15] Herstellung von Nahrungs- und Futtermitteln sowie Getränken\": 15,\n",
    "    \"[16] Tabakverarbeitung\": 16,\n",
    "    \"[17] Herstellung von Textilien\": 17,\n",
    "    \"[18] Herstellung von Bekleidung\": 18,\n",
    "    \"[19] Herstellung von Leder und Lederwaren\": 19,\n",
    "    \"[20] Herstellung von Holz sowie Holz-, Kork- und Flechtwaren (ohne Herstellung von Möbeln)\": 20,\n",
    "    \"[21] Herstellung von Papier, Pappe und Waren daraus\": 21,\n",
    "    '[22] Herstellung von Verlags- und Druckerzeugnissen,  Vervielfältigung von bespielten Ton-, Bild- und Datenträgern': 22,\n",
    "    \"[23] Kokerei, Mineralölverarbeitung, Herstellung und Verarbeitung von Spalt- und Brutstoffen\": 23,\n",
    "    \"[24] Herstellung von chemischen Erzeugnissen\": 24,\n",
    "    \"[25] Herstellung von Gummi- und Kunststoffwaren\": 25,\n",
    "    \"[26] Herstellung von Glas und Glaswaren, Keramik, Verarbeitung von Steinen und Erden\": 26,\n",
    "    \"[27] Metallerzeugung und -bearbeitung\": 27,\n",
    "    \"[28] Herstellung von Metallerzeugnissen\": 28,\n",
    "    \"[29] Maschinenbau\": 29,\n",
    "    \"[31] Herstellung von Geräten der Elektrizitätserzeugung, -verteilung u. Ä.\": 31,\n",
    "    \"[30] Herstellung von Büromaschinen, Datenverarbeitungsgeräten und -einrichtungen\": 30,\n",
    "    \"[32] Rundfunk- und Nachrichtentechnik\": 32,\n",
    "    \"[33] Medizin-, Mess-, Steuer- und Regelungstechnik, Optik, Herstellung von Uhren\": 33,\n",
    "    \"[34] Herstellung von Kraftwagen und Kraftwagenteilen\": 34,\n",
    "    \"[35] Sonstiger Fahrzeugbau\": 35,\n",
    "    \"[36] Herstellung von Möbeln, Schmuck, Musikinstrumenten, Sportgeräten, Spielwaren und sonstigen Erzeugnissen\": 36,\n",
    "    \"[37] Rückgewinnung\": 37,\n",
    "    \"[40] Energieversorgung\": 40,\n",
    "    \"[41] Wasserversorgung\": 41,\n",
    "    \"[45] Bau\": 45,\n",
    "    \"[50] Kraftfahrzeughandel; Instandhaltung und Reparatur von Kraftfahrzeugen; Tankstellen\": 50,\n",
    "    \"[51] Handelsvermittlung und Großhandel (ohne Handel mit Kraftfahrzeugen)\": 51,\n",
    "    \"[52] Einzelhandel (ohne Handel mit Kraftfahrzeugen und ohne Tankstellen); Reparatur von Gebrauchsgütern\": 52,\n",
    "    \"[55] Beherbergungs- und Gaststätten\": 55,\n",
    "    \"[60] Landverkehr; Transport in Rohrfernleitungen\": 60,\n",
    "    \"[61] Schifffahrt\": 61,\n",
    "    \"[62] Luftfahrt\": 62,\n",
    "    \"[63] Hilfs- und Nebentätigkeiten für den Verkehr; Verkehrsvermittlung\": 63,\n",
    "    \"[64] Nachrichtenübermittlung\": 64,\n",
    "    \"[65] Kreditinstitute\": 65,\n",
    "    \"[66] Versicherungen (ohne Sozialversicherung)\": 66,\n",
    "    \"[67] Mit den Kreditinstituten und Versicherungen verbundene Tätigkeiten\": 67,\n",
    "    \"[70] Grundstücks- und Wohnungswesen\": 70,\n",
    "    \"[71] Vermietung beweglicher Sachen ohne Bedienungspersonal\": 71,\n",
    "    \"[72] Datenverarbeitung und Datenbanken\": 72,\n",
    "    \"[73] Forschung und Entwicklung\": 73,\n",
    "    \"[74] Erbringung von unternehmensbezogenen Dienstleistungen\": 74,\n",
    "    \"[75] Öffentliche Verwaltung, Verteidigung, Sozialversicherung\": 75,\n",
    "    \"[80] Erziehung und Unterricht\": 80,\n",
    "    \"[85] Gesundheits-, Veterinär- und Sozialwesen\": 85,\n",
    "    \"[90] Abwasser- und Abfallbeseitigung und sonstige Entsorgung\": 90,\n",
    "    \"[91] Interessenvertretungen sowie kirchliche und sonstige Vereinigungen (ohne Sozialwesen, Kultur und Sport)\": 91,\n",
    "    \"[92] Kultur, Sport und Unterhaltung\": 92,\n",
    "    \"[93] Erbringung von sonstigen Dienstleistungen\": 93,\n",
    "    \"[95] Private Haushalte mit Hauspersonal\": 95,\t\t\t\t\t\n",
    "    \"[96] Industrie - ohne weitere Zuordnung\": 96,\t\t\t\t\t\n",
    "    \"[97] Handwerk - ohne weitere Zuordnung\": 97,\t\t\t\t\t\n",
    "    \"[98] Dienstleistungen ohne weitere Zuordnung\": 98,\t\t\t\t\t\n",
    "    \"[99] Exterritoriale Organisationen und Körperschaften\": 99,\t\t\t\t\n",
    "    \"[100] Produzierendes Gewerbe ohne w.Zuordnung\": 100,\n",
    "    \"[-1] keine Angabe\": 3,\n",
    "    '[-2] trifft nicht zu': 0, \n",
    "    \"[-3] unplausibler Wert\": -3,\n",
    "    \"[-4] unzulaessige Mehrfachantwort\": -4, \n",
    "    \"[-5] in Fragebogenversion nicht enthalten\": -5,\n",
    "    \"[-6] Fragebogenversion mit geaenderter Filterfuehrung\": -6, \n",
    "    \"[-7] nur in weniger eingeschraenkter Edition verfuegbar\": -7,\n",
    "    \"[-8] Frage in diesem Jahr nicht Teil des Frageprogramms\": -8,\n",
    "}\n",
    "# mapping for school degree: to easier remove negatives\n",
    "school_degree_mapping = {\n",
    "    '[-2] trifft nicht zu': -2,\n",
    "    '[-1] keine Angabe':-1,\n",
    "    '[1] Hauptschulabschluss': 1,\n",
    "    '[2] Realschulabschluss': 2,\n",
    "    '[3] Fachhochschulreife': 3,\n",
    "    '[4] Abitur': 4,\n",
    "    '[5] Anderer Abschluss': 5,\n",
    "    '[6] Ohne Abschluss verlassen': 6,\n",
    "    '[7] Noch kein Abschluss': 7,\n",
    "    '[8] Keine Schule besucht': 8,\n",
    "}\n",
    "# reversed mapping to redo changes\n",
    "\n",
    "reversed_mapping_sector = {v: k for k, v in sector_map.items()}\n",
    "reversed_mapping_schoold = {v: k for k, v in school_degree_mapping.items()}\n",
    "reversed_mapping_sector = {v: k for k, v in sector_map.items()}"
   ]
  },
  {
   "cell_type": "code",
   "execution_count": 7,
   "metadata": {},
   "outputs": [],
   "source": [
    "\n",
    "def recode_categoricals(inputdf):\n",
    "\n",
    "    merged = inputdf  \n",
    "    \n",
    "    # recode Gender variable\n",
    "    merged['gender'].replace('[2] Weiblich', 2,inplace=True)\n",
    "    merged['gender'].replace('[1] Maennlich', 1,inplace=True)\n",
    "    # recode reciprocity variables\n",
    "    merged[[\"similar_problems\",\"take_revenge\",\"insult_back\"]] = merged[[\"similar_problems\",\"take_revenge\",\"insult_back\"]].apply(lambda x: x.map(reciprocity_questions_mapping))\n",
    "    # recode recognition variables\n",
    "    merged[[\"recog_sup\",\"recog_effort\",\"recog_personal\",\"recog_pay\"]] = merged[[\"recog_sup\",\"recog_effort\",\"recog_personal\",\"recog_pay\"]].apply(lambda x: x.map(recog_mapping))\n",
    "    # recode felt recognition variables\n",
    "    #merged[[\"felt_recog_sup\",\"felt_recog_effort\",\"felt_recog_personal\",\"felt_recog_pay\"]] = merged[[\"felt_recog_sup\",\"felt_recog_effort\",\"felt_recog_personal\",\"felt_recog_pay\"]].apply(lambda x: x.map(felt_recog_mapping))\n",
    "    # recode firm size\n",
    "    merged['firmsize'] = merged['firmsize'].map(firmsize_mapping)\n",
    "    # recode new job reason variable\n",
    "    # recode sector\n",
    "    merged['sector'] = merged['sector'].map(sector_map)\n",
    "    # recode school degree\n",
    "    merged['school_degree'] = merged['school_degree'].map(school_degree_mapping)\n",
    "    merged['overtime'] = merged['overtime'].map(overtime_mapping)\n",
    "    output = merged\n",
    "    return output"
   ]
  },
  {
   "cell_type": "code",
   "execution_count": 8,
   "metadata": {},
   "outputs": [
    {
     "name": "stderr",
     "output_type": "stream",
     "text": [
      "c:\\Anaconda\\anaconda3\\lib\\site-packages\\pandas\\core\\series.py:726: RuntimeWarning: divide by zero encountered in log\n",
      "  result = getattr(ufunc, method)(*inputs, **kwargs)\n",
      "c:\\Anaconda\\anaconda3\\lib\\site-packages\\pandas\\core\\series.py:726: RuntimeWarning: invalid value encountered in log\n",
      "  result = getattr(ufunc, method)(*inputs, **kwargs)\n"
     ]
    }
   ],
   "source": [
    "# Merge dataframes: a bit tough to read as its nested, merges 3 dataframes: 2005,2006,and 2006gen\n",
    "allmerged_df = pd.merge(pd.merge(df_05, df_06, on=['pid', 'hid']), work06, on=['pid', 'hid'])\n",
    "recoded = recode_categoricals(allmerged_df).astype('int')\n",
    "\n",
    "# construct indsutry-relative wage\n",
    "recoded[\"wage_lastmonth\"] = np.log(recoded[\"wage_lastmonth\"])\n",
    "recoded = recoded[recoded[\"wage_lastmonth\"] != -np.inf] \n",
    "# replaces negative values with n.a.n \n",
    "recoded = recoded.mask(recoded < 0, np.nan) \n",
    "# construct avg reciprocity measure\n",
    "recoded['avg_rec'] = recoded[['take_revenge', 'similar_problems', 'insult_back']].mean(axis=1)\n",
    "# construct age, potential experience and age^2\n",
    "recoded['age'] = 2006 - recoded['year_birth']\n",
    "recoded[\"potential_experience\"] = pow((recoded[\"age\"] - 18), 2)\n",
    "recoded[\"age_squared\"] = (recoded[\"age\"] ** 2) / 100\n",
    "recoded[\"tenure_squared\"] = (recoded[\"tenure\"] ** 2) / 100\n",
    "# recode categoricals back to make it better readable\n",
    "#recoded[\"reason_new_job\"] = recoded[\"reason_new_job\"].map(reversed_mapping_reason)\n",
    "recoded[\"school_degree\"] = recoded[\"school_degree\"].map(reversed_mapping_schoold)\n",
    "recoded[\"sector\"] = recoded[\"sector\"].map(reversed_mapping_sector)\n",
    "# transform binary variables with 1 and 2 into 1 and 0\n",
    "columns_to_transform = [\"recog_sup\",\"recog_effort\", \"recog_pay\", \"recog_personal\" ,\"gender\", \"overtime\"]\n",
    "\n",
    "# Iterate over the columns and replace the values 2 with 0\n",
    "for col in columns_to_transform:\n",
    "    recoded[col] = recoded[col].replace({2: 0})\n",
    "\n",
    "# save df somewhere so its not muted when repeatedly executing this cell: Can later transform that into functions\n",
    "dfnan = recoded\n",
    "# remove rows with '3' in overtime\n",
    "dfnan.drop(dfnan[dfnan['overtime'] == 3].index, inplace=True)\n"
   ]
  },
  {
   "attachments": {},
   "cell_type": "markdown",
   "metadata": {},
   "source": [
    "### Mincer Wage Regression"
   ]
  },
  {
   "cell_type": "code",
   "execution_count": 9,
   "metadata": {},
   "outputs": [],
   "source": [
    "df_mincer = dfnan.drop(columns=['syear_x', 'similar_problems', 'take_revenge', 'insult_back','syear_y',\n",
    "       'recog_personal', 'recog_pay', 'syear_y', 'year_birth','school_degree','overtime', 'recog_sup', 'age', 'recog_effort', 'working_hours', 'syear', 'tenure_squared' , 'commute_distance'])"
   ]
  },
  {
   "cell_type": "code",
   "execution_count": 10,
   "metadata": {},
   "outputs": [],
   "source": [
    "df_mincer.dropna(inplace=True)"
   ]
  },
  {
   "cell_type": "code",
   "execution_count": 11,
   "metadata": {},
   "outputs": [],
   "source": [
    "# Define the dependent variable\n",
    "y = df_mincer['wage_lastmonth']\n",
    "\n",
    "# Define the independent variables\n",
    "X = df_mincer[['gender', 'firmsize', 'tenure', 'years_educ', 'potential_experience', 'age_squared']]\n",
    "\n",
    "# Add a constant term to the independent variables\n",
    "X = sm.add_constant(X)\n",
    "\n",
    "# Fit the Mincer wage regression model\n",
    "mincer_model = sm.OLS(y, X).fit()\n",
    "\n",
    "# Print the summary statistics of the model\n",
    "#mincer_model.summary()\n",
    "\n",
    "# Get the residuals of the model\n",
    "residuals_mincer = mincer_model.resid\n"
   ]
  },
  {
   "cell_type": "code",
   "execution_count": 12,
   "metadata": {},
   "outputs": [
    {
     "data": {
      "text/plain": [
       "pid      hid   \n",
       "901      94        0.663152\n",
       "1701     175       0.033201\n",
       "1704     175       0.595399\n",
       "2301     230       0.149700\n",
       "2302     65889     0.540106\n",
       "                     ...   \n",
       "8250402  825042    0.531643\n",
       "8250702  825077   -0.000898\n",
       "8250802  825085   -1.426454\n",
       "8253302  825336   -0.417401\n",
       "8256802  825689    0.424246\n",
       "Length: 7859, dtype: float64"
      ]
     },
     "execution_count": 12,
     "metadata": {},
     "output_type": "execute_result"
    }
   ],
   "source": [
    "residuals_mincer"
   ]
  },
  {
   "cell_type": "code",
   "execution_count": 13,
   "metadata": {},
   "outputs": [],
   "source": [
    "df_regression = dfnan.drop(columns=['syear_x', 'similar_problems', 'take_revenge', 'insult_back','syear_y', 'recog_sup',\n",
    "       'recog_personal', 'recog_pay', 'syear_y', 'year_birth',  'wage_lastmonth', 'school_degree', \"syear\"])"
   ]
  },
  {
   "cell_type": "code",
   "execution_count": 14,
   "metadata": {},
   "outputs": [],
   "source": [
    "# Create a new column in the dataframe with the same name as the residuals array\n",
    "df_regression['relative_wage'] = None\n",
    "\n",
    "# Match the rows of the dataframe with the values in the residuals array using the index\n",
    "df_regression.loc[df_regression.index, 'relative_wage'] = residuals_mincer\n",
    "\n",
    "# Rename the column \"relative_wage\" to \"mincer_residuals\"\n",
    "df_regression = df_regression.rename(columns={'relative_wage': 'mincer_residuals'})\n",
    "\n"
   ]
  },
  {
   "cell_type": "code",
   "execution_count": 15,
   "metadata": {},
   "outputs": [],
   "source": [
    "df_regression[\"interaction\"] = df_regression[\"recog_effort\"] * df_regression[\"avg_rec\"]"
   ]
  },
  {
   "cell_type": "code",
   "execution_count": 16,
   "metadata": {},
   "outputs": [],
   "source": [
    "df_regression.dropna(inplace = True)"
   ]
  },
  {
   "cell_type": "code",
   "execution_count": 17,
   "metadata": {},
   "outputs": [
    {
     "data": {
      "text/plain": [
       "Index(['gender', 'overtime', 'recog_effort', 'commute_distance',\n",
       "       'working_hours', 'firmsize', 'sector', 'tenure', 'years_educ',\n",
       "       'avg_rec', 'age', 'potential_experience', 'age_squared',\n",
       "       'tenure_squared', 'mincer_residuals', 'interaction'],\n",
       "      dtype='object')"
      ]
     },
     "execution_count": 17,
     "metadata": {},
     "output_type": "execute_result"
    }
   ],
   "source": [
    "df_regression.columns"
   ]
  },
  {
   "attachments": {},
   "cell_type": "markdown",
   "metadata": {},
   "source": [
    "Now, instead of using a probit model, we use OLS."
   ]
  },
  {
   "cell_type": "code",
   "execution_count": 19,
   "metadata": {},
   "outputs": [
    {
     "data": {
      "text/html": [
       "<table class=\"simpletable\">\n",
       "<caption>OLS Regression Results</caption>\n",
       "<tr>\n",
       "  <th>Dep. Variable:</th>        <td>overtime</td>     <th>  R-squared:         </th> <td>   0.116</td>\n",
       "</tr>\n",
       "<tr>\n",
       "  <th>Model:</th>                   <td>OLS</td>       <th>  Adj. R-squared:    </th> <td>   0.114</td>\n",
       "</tr>\n",
       "<tr>\n",
       "  <th>Method:</th>             <td>Least Squares</td>  <th>  F-statistic:       </th> <td>   1166.</td>\n",
       "</tr>\n",
       "<tr>\n",
       "  <th>Date:</th>             <td>Thu, 12 Jan 2023</td> <th>  Prob (F-statistic):</th> <td>4.28e-64</td>\n",
       "</tr>\n",
       "<tr>\n",
       "  <th>Time:</th>                 <td>16:11:20</td>     <th>  Log-Likelihood:    </th> <td> -3281.3</td>\n",
       "</tr>\n",
       "<tr>\n",
       "  <th>No. Observations:</th>      <td>  6597</td>      <th>  AIC:               </th> <td>   6589.</td>\n",
       "</tr>\n",
       "<tr>\n",
       "  <th>Df Residuals:</th>          <td>  6584</td>      <th>  BIC:               </th> <td>   6677.</td>\n",
       "</tr>\n",
       "<tr>\n",
       "  <th>Df Model:</th>              <td>    12</td>      <th>                     </th>     <td> </td>   \n",
       "</tr>\n",
       "<tr>\n",
       "  <th>Covariance Type:</th>       <td>cluster</td>     <th>                     </th>     <td> </td>   \n",
       "</tr>\n",
       "</table>\n",
       "<table class=\"simpletable\">\n",
       "<tr>\n",
       "            <td></td>              <th>coef</th>     <th>std err</th>      <th>z</th>      <th>P>|z|</th>  <th>[0.025</th>    <th>0.975]</th>  \n",
       "</tr>\n",
       "<tr>\n",
       "  <th>Intercept</th>            <td>   -0.0187</td> <td>    0.007</td> <td>   -2.737</td> <td> 0.006</td> <td>   -0.032</td> <td>   -0.005</td>\n",
       "</tr>\n",
       "<tr>\n",
       "  <th>recog_effort</th>         <td>    0.1155</td> <td>    0.021</td> <td>    5.416</td> <td> 0.000</td> <td>    0.074</td> <td>    0.157</td>\n",
       "</tr>\n",
       "<tr>\n",
       "  <th>avg_rec</th>              <td>    0.0049</td> <td>    0.005</td> <td>    0.921</td> <td> 0.357</td> <td>   -0.006</td> <td>    0.015</td>\n",
       "</tr>\n",
       "<tr>\n",
       "  <th>interaction</th>          <td>   -0.0130</td> <td>    0.007</td> <td>   -1.953</td> <td> 0.051</td> <td>   -0.026</td> <td> 4.68e-05</td>\n",
       "</tr>\n",
       "<tr>\n",
       "  <th>working_hours</th>        <td>    0.0052</td> <td>    0.001</td> <td>    6.009</td> <td> 0.000</td> <td>    0.003</td> <td>    0.007</td>\n",
       "</tr>\n",
       "<tr>\n",
       "  <th>firmsize</th>             <td>    0.0096</td> <td>    0.002</td> <td>    4.127</td> <td> 0.000</td> <td>    0.005</td> <td>    0.014</td>\n",
       "</tr>\n",
       "<tr>\n",
       "  <th>tenure</th>               <td>   -0.0017</td> <td>    0.002</td> <td>   -0.987</td> <td> 0.324</td> <td>   -0.005</td> <td>    0.002</td>\n",
       "</tr>\n",
       "<tr>\n",
       "  <th>tenure_squared</th>       <td>    0.0039</td> <td>    0.005</td> <td>    0.758</td> <td> 0.448</td> <td>   -0.006</td> <td>    0.014</td>\n",
       "</tr>\n",
       "<tr>\n",
       "  <th>age</th>                  <td>   -0.0064</td> <td>    0.006</td> <td>   -1.118</td> <td> 0.264</td> <td>   -0.018</td> <td>    0.005</td>\n",
       "</tr>\n",
       "<tr>\n",
       "  <th>age_squared</th>          <td>    0.0581</td> <td>    0.020</td> <td>    2.892</td> <td> 0.004</td> <td>    0.019</td> <td>    0.097</td>\n",
       "</tr>\n",
       "<tr>\n",
       "  <th>years_educ</th>           <td>    0.0246</td> <td>    0.003</td> <td>    7.684</td> <td> 0.000</td> <td>    0.018</td> <td>    0.031</td>\n",
       "</tr>\n",
       "<tr>\n",
       "  <th>commute_distance</th>     <td>    0.0001</td> <td> 5.79e-05</td> <td>    2.460</td> <td> 0.014</td> <td>  2.9e-05</td> <td>    0.000</td>\n",
       "</tr>\n",
       "<tr>\n",
       "  <th>potential_experience</th> <td>   -0.0009</td> <td>    0.000</td> <td>   -3.813</td> <td> 0.000</td> <td>   -0.001</td> <td>   -0.000</td>\n",
       "</tr>\n",
       "<tr>\n",
       "  <th>mincer_residuals</th>     <td>    0.1427</td> <td>    0.010</td> <td>   13.949</td> <td> 0.000</td> <td>    0.123</td> <td>    0.163</td>\n",
       "</tr>\n",
       "</table>\n",
       "<table class=\"simpletable\">\n",
       "<tr>\n",
       "  <th>Omnibus:</th>       <td>906.153</td> <th>  Durbin-Watson:     </th> <td>   1.902</td> \n",
       "</tr>\n",
       "<tr>\n",
       "  <th>Prob(Omnibus):</th> <td> 0.000</td>  <th>  Jarque-Bera (JB):  </th> <td>1326.475</td> \n",
       "</tr>\n",
       "<tr>\n",
       "  <th>Skew:</th>          <td>-1.094</td>  <th>  Prob(JB):          </th> <td>9.11e-289</td>\n",
       "</tr>\n",
       "<tr>\n",
       "  <th>Kurtosis:</th>      <td> 2.809</td>  <th>  Cond. No.          </th> <td>7.88e+17</td> \n",
       "</tr>\n",
       "</table><br/><br/>Notes:<br/>[1] Standard Errors are robust to cluster correlation (cluster)<br/>[2] The smallest eigenvalue is 8.36e-27. This might indicate that there are<br/>strong multicollinearity problems or that the design matrix is singular."
      ],
      "text/plain": [
       "<class 'statsmodels.iolib.summary.Summary'>\n",
       "\"\"\"\n",
       "                            OLS Regression Results                            \n",
       "==============================================================================\n",
       "Dep. Variable:               overtime   R-squared:                       0.116\n",
       "Model:                            OLS   Adj. R-squared:                  0.114\n",
       "Method:                 Least Squares   F-statistic:                     1166.\n",
       "Date:                Thu, 12 Jan 2023   Prob (F-statistic):           4.28e-64\n",
       "Time:                        16:11:20   Log-Likelihood:                -3281.3\n",
       "No. Observations:                6597   AIC:                             6589.\n",
       "Df Residuals:                    6584   BIC:                             6677.\n",
       "Df Model:                          12                                         \n",
       "Covariance Type:              cluster                                         \n",
       "========================================================================================\n",
       "                           coef    std err          z      P>|z|      [0.025      0.975]\n",
       "----------------------------------------------------------------------------------------\n",
       "Intercept               -0.0187      0.007     -2.737      0.006      -0.032      -0.005\n",
       "recog_effort             0.1155      0.021      5.416      0.000       0.074       0.157\n",
       "avg_rec                  0.0049      0.005      0.921      0.357      -0.006       0.015\n",
       "interaction             -0.0130      0.007     -1.953      0.051      -0.026    4.68e-05\n",
       "working_hours            0.0052      0.001      6.009      0.000       0.003       0.007\n",
       "firmsize                 0.0096      0.002      4.127      0.000       0.005       0.014\n",
       "tenure                  -0.0017      0.002     -0.987      0.324      -0.005       0.002\n",
       "tenure_squared           0.0039      0.005      0.758      0.448      -0.006       0.014\n",
       "age                     -0.0064      0.006     -1.118      0.264      -0.018       0.005\n",
       "age_squared              0.0581      0.020      2.892      0.004       0.019       0.097\n",
       "years_educ               0.0246      0.003      7.684      0.000       0.018       0.031\n",
       "commute_distance         0.0001   5.79e-05      2.460      0.014     2.9e-05       0.000\n",
       "potential_experience    -0.0009      0.000     -3.813      0.000      -0.001      -0.000\n",
       "mincer_residuals         0.1427      0.010     13.949      0.000       0.123       0.163\n",
       "==============================================================================\n",
       "Omnibus:                      906.153   Durbin-Watson:                   1.902\n",
       "Prob(Omnibus):                  0.000   Jarque-Bera (JB):             1326.475\n",
       "Skew:                          -1.094   Prob(JB):                    9.11e-289\n",
       "Kurtosis:                       2.809   Cond. No.                     7.88e+17\n",
       "==============================================================================\n",
       "\n",
       "Notes:\n",
       "[1] Standard Errors are robust to cluster correlation (cluster)\n",
       "[2] The smallest eigenvalue is 8.36e-27. This might indicate that there are\n",
       "strong multicollinearity problems or that the design matrix is singular.\n",
       "\"\"\""
      ]
     },
     "execution_count": 19,
     "metadata": {},
     "output_type": "execute_result"
    }
   ],
   "source": [
    "\n",
    "\n",
    "formula_main = 'overtime ~ recog_effort + avg_rec + interaction + working_hours + firmsize + tenure + tenure_squared + age + age_squared + years_educ + commute_distance + potential_experience + mincer_residuals'\n",
    "# Fit the regression and cluster on the sector variable\n",
    "reg = smf.ols(formula_main, data=df_regression).fit(cov_type='cluster', cov_kwds={'groups': df_regression['sector']})\n",
    "\n",
    "# Print the regression results\n",
    "reg.summary()"
   ]
  }
 ],
 "metadata": {
  "kernelspec": {
   "display_name": "base",
   "language": "python",
   "name": "python3"
  },
  "language_info": {
   "codemirror_mode": {
    "name": "ipython",
    "version": 3
   },
   "file_extension": ".py",
   "mimetype": "text/x-python",
   "name": "python",
   "nbconvert_exporter": "python",
   "pygments_lexer": "ipython3",
   "version": "3.8.5 (default, Sep  3 2020, 21:29:08) [MSC v.1916 64 bit (AMD64)]"
  },
  "orig_nbformat": 4,
  "vscode": {
   "interpreter": {
    "hash": "aeae005699da9ee22f5f1999a0228188e87e61d9f977527a9e2e028c3963d1b8"
   }
  }
 },
 "nbformat": 4,
 "nbformat_minor": 2
}
