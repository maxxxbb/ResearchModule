{
 "cells": [
  {
   "attachments": {},
   "cell_type": "markdown",
   "metadata": {},
   "source": [
    "robustness check with reiprocity from 2010 and 2015"
   ]
  },
  {
   "cell_type": "code",
   "execution_count": 95,
   "metadata": {},
   "outputs": [],
   "source": [
    "import pandas as pd\n",
    "import numpy as np\n",
    "import seaborn as sns\n",
    "import math\n",
    "\n",
    "import statsmodels.api as sm\n",
    "import statsmodels.formula.api as smf\n",
    "from statsmodels.formula.api import ols"
   ]
  },
  {
   "cell_type": "code",
   "execution_count": 214,
   "metadata": {},
   "outputs": [],
   "source": [
    "# define path: insert the path where the SOEP data is stored on your computer here\n",
    "from pathlib import Path\n",
    "# Maxie: /Volumes/dohmen_soep/SOEP-CORE.v36eu_STATA/Stata/raw\n",
    "# Max: C:/Users/max-admin/Desktop/Masterstudium/WiSe_22_23/Research_Module/SOEP-Data/Stata/raw\n",
    "data_folder = Path(\"/Volumes/dohmen_soep/SOEP-CORE.v36eu_STATA/Stata/raw\")\n",
    "# define relevant subsets of SOEP-data\n",
    "file_names = ['vp', 'bap', 'bfp']\n",
    "\n",
    "file_paths = [data_folder / f\"{file_name}.dta\" for file_name in file_names]\n",
    "# some controls are in gen data\n",
    "file_paths_2 = [data_folder / f\"{file_name}gen.dta\" for file_name in file_names]"
   ]
  },
  {
   "cell_type": "code",
   "execution_count": 215,
   "metadata": {},
   "outputs": [],
   "source": [
    "data05 = pd.read_stata(file_paths[0], columns=[\"pid\",\"hid\", \"syear\",\"vp12602\", \"vp12603\", \"vp12605\"]).set_index(['pid', 'hid'])\n",
    "df_05 = data05.rename(columns={ 'vp12602': 'take_revenge', 'vp12603': 'similar_problems', 'vp12605': 'insult_back'})\n"
   ]
  },
  {
   "cell_type": "code",
   "execution_count": 216,
   "metadata": {},
   "outputs": [],
   "source": [
    "data10= pd.read_stata(file_paths[1], columns=[\"pid\", \"hid\", \"syear\",'bap12402','bap12403','bap12405']).set_index(['pid', 'hid'])\n",
    "df_10 = data10.rename(columns = {'bap12402': 'take_revenge','bap12403': 'similar_problems','bap12405': 'insult_back'})"
   ]
  },
  {
   "cell_type": "code",
   "execution_count": 217,
   "metadata": {},
   "outputs": [],
   "source": [
    "data15= pd.read_stata(file_paths[2], columns=[\"pid\", \"hid\", \"syear\",'bfp0602','bfp0603','bfp0605']).set_index(['pid', 'hid'])\n",
    "df_15 = data15.rename(columns = {'bfp0602': 'take_revenge', 'bfp0603': 'similar_problems', 'bfp0605': 'insult_back'})\n"
   ]
  },
  {
   "cell_type": "code",
   "execution_count": 218,
   "metadata": {},
   "outputs": [],
   "source": [
    "reciprocity_questions_mapping_05 = {\n",
    "    '[1] Trifft ueberhaupt nicht zu': 1,\n",
    "    '[2] Skala 1-7': 2,\n",
    "    '[3] Skala 1-7': 3,\n",
    "    '[4] Skala 1-7': 4,\n",
    "    '[5] Skala 1-7': 5,\n",
    "    '[6] Skala 1-7': 6,\n",
    "    '[7] Trifft voll zu': 7,\n",
    "    '[-1] keine Angabe': np.nan,\n",
    "\n",
    "}\n",
    "\n",
    "df_05[[\"similar_problems\",\"take_revenge\",\"insult_back\"]] = df_05[[\"similar_problems\",\"take_revenge\",\"insult_back\"]].apply(lambda x: x.map(reciprocity_questions_mapping_05))\n",
    "\n",
    "reciprocity_questions_mapping_10 = {\n",
    "    '[1] Trifft ueberhaupt nicht zu': 1,\n",
    "    '[2] 2 auf Skala 1-7': 2,\n",
    "    '[3] 3 auf Skala 1-7': 3,\n",
    "    '[4] 4 auf Skala 1-7': 4,\n",
    "    '[5] 5 auf Skala 1-7': 5,\n",
    "    '[6] 6 auf Skala 1-7': 6,\n",
    "    '[7] Trifft voll zu': 7,\n",
    "    '[-1] keine Angabe': np.nan,\n",
    "    '[-5] In Fragebogenversion nicht enthalten': np.nan,\n",
    "\n",
    "}\n",
    "\n",
    "df_10[[\"similar_problems\",\"take_revenge\",\"insult_back\"]] = df_10[[\"similar_problems\",\"take_revenge\",\"insult_back\"]].apply(lambda x: x.map(reciprocity_questions_mapping_10))\n",
    "\n",
    "reciprocity_questions_mapping_15 = {\n",
    "    '[1] 1 Trifft ueberhaupt nicht zu, (Skala 1-7)': 1,\n",
    "    '[2] 2 auf Skala 1-7': 2,\n",
    "    '[3] 3 auf Skala 1-7': 3,\n",
    "    '[4] 4 auf Skala 1-7': 4,\n",
    "    '[5] 5 auf Skala 1-7': 5,\n",
    "    '[6] 6 auf Skala 1-7': 6,\n",
    "    '[7] 7 Trifft voll zu, (Skala 1-7)': 7,\n",
    "    '[-1] keine Angabe': -1,\n",
    "\n",
    "}\n",
    "\n",
    "df_15[[\"similar_problems\",\"take_revenge\",\"insult_back\"]] = df_15[[\"similar_problems\",\"take_revenge\",\"insult_back\"]].apply(lambda x: x.map(reciprocity_questions_mapping_15))\n"
   ]
  },
  {
   "cell_type": "code",
   "execution_count": 219,
   "metadata": {},
   "outputs": [],
   "source": [
    "df = df_10.merge(df_05,how='left', left_on=['pid', 'hid'], right_on=['pid', 'hid'])\n",
    "df_reciprocity = df_15.merge(df, how='left', left_on=['pid', 'hid'], right_on=['pid', 'hid'])\n",
    "#categoricals need to be transoformed to integers, otherwise dopping negatives is not possible\n"
   ]
  },
  {
   "cell_type": "code",
   "execution_count": 220,
   "metadata": {},
   "outputs": [],
   "source": [
    "df_reciprocity['avg_rec'] = df_reciprocity[['take_revenge', 'similar_problems', 'insult_back', 'take_revenge_x', 'similar_problems_x', 'insult_back_x', 'take_revenge_y', 'similar_problems_y', 'insult_back_y']].mean(axis=1, skipna = True)"
   ]
  },
  {
   "cell_type": "code",
   "execution_count": 222,
   "metadata": {},
   "outputs": [
    {
     "data": {
      "text/html": [
       "<div>\n",
       "<style scoped>\n",
       "    .dataframe tbody tr th:only-of-type {\n",
       "        vertical-align: middle;\n",
       "    }\n",
       "\n",
       "    .dataframe tbody tr th {\n",
       "        vertical-align: top;\n",
       "    }\n",
       "\n",
       "    .dataframe thead th {\n",
       "        text-align: right;\n",
       "    }\n",
       "</style>\n",
       "<table border=\"1\" class=\"dataframe\">\n",
       "  <thead>\n",
       "    <tr style=\"text-align: right;\">\n",
       "      <th></th>\n",
       "      <th></th>\n",
       "      <th>avg_rec</th>\n",
       "    </tr>\n",
       "    <tr>\n",
       "      <th>pid</th>\n",
       "      <th>hid</th>\n",
       "      <th></th>\n",
       "    </tr>\n",
       "  </thead>\n",
       "  <tbody>\n",
       "    <tr>\n",
       "      <th>901</th>\n",
       "      <th>94</th>\n",
       "      <td>3.444444</td>\n",
       "    </tr>\n",
       "    <tr>\n",
       "      <th>1501</th>\n",
       "      <th>159</th>\n",
       "      <td>1.888889</td>\n",
       "    </tr>\n",
       "    <tr>\n",
       "      <th>1601</th>\n",
       "      <th>167</th>\n",
       "      <td>2.888889</td>\n",
       "    </tr>\n",
       "    <tr>\n",
       "      <th>2301</th>\n",
       "      <th>230</th>\n",
       "      <td>2.666667</td>\n",
       "    </tr>\n",
       "    <tr>\n",
       "      <th>2302</th>\n",
       "      <th>65889</th>\n",
       "      <td>4.111111</td>\n",
       "    </tr>\n",
       "    <tr>\n",
       "      <th>...</th>\n",
       "      <th>...</th>\n",
       "      <td>...</td>\n",
       "    </tr>\n",
       "    <tr>\n",
       "      <th>35030302</th>\n",
       "      <th>3503037</th>\n",
       "      <td>2.000000</td>\n",
       "    </tr>\n",
       "    <tr>\n",
       "      <th>35030502</th>\n",
       "      <th>3503053</th>\n",
       "      <td>4.333333</td>\n",
       "    </tr>\n",
       "    <tr>\n",
       "      <th>35031602</th>\n",
       "      <th>3503169</th>\n",
       "      <td>3.000000</td>\n",
       "    </tr>\n",
       "    <tr>\n",
       "      <th>35033202</th>\n",
       "      <th>3503320</th>\n",
       "      <td>3.000000</td>\n",
       "    </tr>\n",
       "    <tr>\n",
       "      <th>35033302</th>\n",
       "      <th>3503339</th>\n",
       "      <td>2.666667</td>\n",
       "    </tr>\n",
       "  </tbody>\n",
       "</table>\n",
       "<p>27183 rows × 1 columns</p>\n",
       "</div>"
      ],
      "text/plain": [
       "                   avg_rec\n",
       "pid      hid              \n",
       "901      94       3.444444\n",
       "1501     159      1.888889\n",
       "1601     167      2.888889\n",
       "2301     230      2.666667\n",
       "2302     65889    4.111111\n",
       "...                    ...\n",
       "35030302 3503037  2.000000\n",
       "35030502 3503053  4.333333\n",
       "35031602 3503169  3.000000\n",
       "35033202 3503320  3.000000\n",
       "35033302 3503339  2.666667\n",
       "\n",
       "[27183 rows x 1 columns]"
      ]
     },
     "execution_count": 222,
     "metadata": {},
     "output_type": "execute_result"
    }
   ],
   "source": [
    "df_avg_rec = df_reciprocity.loc[:,['avg_rec']]\n",
    "df_avg_rec"
   ]
  },
  {
   "cell_type": "code",
   "execution_count": 223,
   "metadata": {},
   "outputs": [],
   "source": [
    "df_avg_rec.to_csv('/Users/maxieschulze/Documents/Dokumente - MacBook Pro von Maxie/5. Semester/Research Module/ResearchModule/src/data_management/rec_avgyears.csv')"
   ]
  }
 ],
 "metadata": {
  "kernelspec": {
   "display_name": "base",
   "language": "python",
   "name": "python3"
  },
  "language_info": {
   "codemirror_mode": {
    "name": "ipython",
    "version": 3
   },
   "file_extension": ".py",
   "mimetype": "text/x-python",
   "name": "python",
   "nbconvert_exporter": "python",
   "pygments_lexer": "ipython3",
   "version": "3.8.15"
  },
  "orig_nbformat": 4,
  "vscode": {
   "interpreter": {
    "hash": "5df7d47ce4f33ec65ca12ba7db2796b6cbc8620dcf8689ec69de714ca1293d9b"
   }
  }
 },
 "nbformat": 4,
 "nbformat_minor": 2
}
