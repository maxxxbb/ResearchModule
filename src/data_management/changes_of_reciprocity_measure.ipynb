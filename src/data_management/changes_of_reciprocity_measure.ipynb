{
 "cells": [
  {
   "cell_type": "code",
   "execution_count": 613,
   "metadata": {},
   "outputs": [],
   "source": [
    "import pandas as pd\n",
    "import numpy as np\n",
    "import seaborn as sns\n",
    "import math\n",
    "\n",
    "import statsmodels.api as sm\n",
    "import statsmodels.formula.api as smf\n",
    "from statsmodels.formula.api import ols"
   ]
  },
  {
   "cell_type": "code",
   "execution_count": 638,
   "metadata": {},
   "outputs": [],
   "source": [
    "from pathlib import Path\n",
    "data_folder = Path(\"Z:\\\\SOEP-CORE.v36eu_STATA\\\\Stata\\\\raw\")\n",
    "\n",
    "file_names = ['vp', 'bap', 'bfp', 'bgp', 'bhp', 'bip', 'bjp', 'bkp']\n",
    "\n",
    "\n",
    "file_paths = [data_folder / f\"{file_name}.dta\" for file_name in file_names]\n",
    "\n",
    "file_paths_2 = [data_folder / f\"{file_name}gen.dta\" for file_name in file_names]"
   ]
  },
  {
   "cell_type": "code",
   "execution_count": 678,
   "metadata": {},
   "outputs": [],
   "source": [
    "data0 = pd.read_stata(file_paths[0], columns=[\"pid\",\"hid\", \"vp12602\", \"vp12603\", \"vp12605\"]).set_index(['pid', 'hid'])\n",
    "df0 = data0.rename(columns={'vp12602': 'take_revenge', 'vp12603': 'similar_problems', 'vp12605': 'insult_back'})"
   ]
  },
  {
   "cell_type": "code",
   "execution_count": 679,
   "metadata": {},
   "outputs": [],
   "source": [
    "data1 = pd.read_stata(file_paths[1], columns=[\"pid\",\"hid\", \"bap12402\", \"bap12403\", \"bap12405\"]).set_index(['pid', 'hid'])\n",
    "df1 = data1.rename(columns={'bap12402': 'take_revenge', 'bap12403': 'similar_problems', 'bap12405': 'insult_back'})"
   ]
  },
  {
   "cell_type": "code",
   "execution_count": 680,
   "metadata": {},
   "outputs": [],
   "source": [
    "data2 = pd.read_stata(file_paths[2], columns=[\"pid\",\"hid\", \"bfp0602\", \"bfp0603\", \"bfp0605\"]).set_index(['pid', 'hid'])\n",
    "df2 = data2.rename(columns={'bfp0602': 'take_revenge', 'bfp0603': 'similar_problems', 'bfp0605': 'insult_back'})"
   ]
  },
  {
   "cell_type": "code",
   "execution_count": 681,
   "metadata": {},
   "outputs": [],
   "source": [
    "data3 = pd.read_stata(file_paths[3], columns=[\"pid\",\"hid\", \"bgpm185a02\", \"bgpm185a03\", \"bgpm185a05\"]).set_index(['pid', 'hid'])\n",
    "df3 = data3.rename(columns={'bgpm185a02': 'take_revenge', 'bgpm185a03': 'similar_problems', 'bgpm185a05': 'insult_back'})"
   ]
  },
  {
   "cell_type": "code",
   "execution_count": 682,
   "metadata": {},
   "outputs": [],
   "source": [
    "data4 = pd.read_stata(file_paths[4], columns=[\"pid\",\"hid\", \"bhp_447_q56\", \"bhp_448_q56\", \"bhp_450_q56\"]).set_index(['pid', 'hid'])\n",
    "df4 = data4.rename(columns={'bhp_447_q56': 'take_revenge', 'bhp_448_q56': 'similar_problems', 'bhp_450_q56': 'insult_back'})"
   ]
  },
  {
   "cell_type": "code",
   "execution_count": 683,
   "metadata": {},
   "outputs": [],
   "source": [
    "data5 = pd.read_stata(file_paths[5], columns=[\"pid\",\"hid\", \"bip_412_q107\", \"bip_413_q107\", \"bip_415_q107\"]).set_index(['pid', 'hid'])\n",
    "df5 = data5.rename(columns={'bip_412_q107': 'take_revenge', 'bip_413_q107': 'similar_problems', 'bip_415_q107': 'insult_back'})"
   ]
  },
  {
   "cell_type": "code",
   "execution_count": 684,
   "metadata": {},
   "outputs": [],
   "source": [
    "data6 = pd.read_stata(file_paths[6], columns=[\"pid\",\"hid\", \"bjp_446_q155\", \"bjp_447_q155\", \"bjp_449_q155\"]).set_index(['pid', 'hid'])\n",
    "df6 = data6.rename(columns={'bjp_446_q155': 'take_revenge', 'bjp_447_q155': 'similar_problems', 'bjp_449_q155': 'insult_back'})"
   ]
  },
  {
   "cell_type": "code",
   "execution_count": 685,
   "metadata": {},
   "outputs": [],
   "source": [
    "#data7 = pd.read_stata(file_paths[7], columns=[\"pid\",\"hid\", \"bkp_06_02\", \"bkp_06_03\", \"bkp_06_05\"]).set_index(['pid', 'hid'])\n",
    "#df7 = data7.rename(columns={'bkp_06_02': 'take_revenge', 'bkp_06_03': 'similar_problems', 'bkp_06_05': 'insult_back'})"
   ]
  },
  {
   "cell_type": "code",
   "execution_count": 686,
   "metadata": {},
   "outputs": [],
   "source": [
    "neg_rec_mapping = {\n",
    "    '[1] Trifft ueberhaupt nicht zu': 1,\n",
    "    '[2] Skala 1-7': 2,\n",
    "    '[3] Skala 1-7': 3,\n",
    "    '[4] Skala 1-7': 4,\n",
    "    '[5] Skala 1-7': 5,\n",
    "    '[6] Skala 1-7': 6,\n",
    "    '[7] Trifft voll zu': 7,\n",
    "    '[-1] keine Angabe': -1\n",
    "}\n",
    "\n",
    "neg_rec_mapping6 = {\n",
    "    '[1] 1=Trifft überhaupt nicht zu': 1,\n",
    "    '[2] Skala 1-7': 2,\n",
    "    '[3] Skala 1-7': 3,\n",
    "    '[4] Skala 1-7': 4,\n",
    "    '[5] Skala 1-7': 5,\n",
    "    '[6] Skala 1-7': 6,\n",
    "    '[7] 7=Trifft voll zu': 7,\n",
    "    '[-1] keine Angabe': -1\n",
    "}\n",
    "\n",
    "neg_rec_mapping2 = {\n",
    "    '[1] 1 Trifft ueberhaupt nicht zu, (Skala 1-7)': 1,\n",
    "    '[2] 2 auf Skala 1-7': 2,\n",
    "    '[3] 3 auf Skala 1-7': 3,\n",
    "    '[4] 4 auf Skala 1-7': 4,\n",
    "    '[5] 5 auf Skala 1-7': 5,\n",
    "    '[6] 6 auf Skala 1-7': 6,\n",
    "    '[7] 7 Trifft voll zu, (Skala 1-7)': 7,\n",
    "    '[-1] keine Angabe': -1\n",
    "}\n",
    "\n",
    "neg_rec_mapping1 = {\n",
    "    '[1] Trifft ueberhaupt nicht zu': 1,\n",
    "    '[2] 2 auf Skala 1-7': 2,\n",
    "    '[3] 3 auf Skala 1-7': 3,\n",
    "    '[4] 4 auf Skala 1-7': 4,\n",
    "    '[5] 5 auf Skala 1-7': 5,\n",
    "    '[6] 6 auf Skala 1-7': 6,\n",
    "    '[7] Trifft voll zu': 7,\n",
    "    '[-1] keine Angabe': -1\n",
    "}\n",
    "\n",
    "neg_rec_mapping4 = {\n",
    "    '[1] 1=Trifft ueberhaupt nicht zu': 1,\n",
    "    '[2] auf einer Skala 1-7': 2,\n",
    "    '[3] auf einer Skala 1-7': 3,\n",
    "    '[4] auf einer Skala 1-7': 4,\n",
    "    '[5] auf einer Skala 1-7': 5,\n",
    "    '[6] auf einer Skala 1-7': 6,\n",
    "    '[7] 7=Trifft voll zu': 7,\n",
    "    '[-1] keine Angabe': -1\n",
    "}\n",
    "\n",
    "neg_rec_mapping4_1 = {\n",
    "    '[1] Trifft ueberhaupt nicht zu': 1,\n",
    "    '[2] auf einer Skala 1-7': 2,\n",
    "    '[3] auf einer Skala 1-7': 3,\n",
    "    '[4] auf einer Skala 1-7': 4,\n",
    "    '[5] auf einer Skala 1-7': 5,\n",
    "    '[6] auf einer Skala 1-7': 6,\n",
    "    '[7] Trifft voll zu': 7,\n",
    "    '[-1] keine Angabe': -1\n",
    "}\n",
    "\n",
    "neg_rec_mapping5 = {\n",
    "    '[1] 1=Trifft überhaupt nicht zu': 1,\n",
    "    '[2] 2': 2,\n",
    "    '[3] 3': 3,\n",
    "    '[4] 4': 4,\n",
    "    '[5] 5': 5,\n",
    "    '[6] 6': 6,\n",
    "    '[7] 7=Trifft voll zu': 7,\n",
    "    '[-1] keine Angabe': -1\n",
    "}\n",
    "\n",
    "df0['take_revenge'] = df0['take_revenge'].map(neg_rec_mapping)\n",
    "df1['take_revenge'] = df1['take_revenge'].map(neg_rec_mapping1)\n",
    "df2['take_revenge'] = df2['take_revenge'].map(neg_rec_mapping2)\n",
    "df3['take_revenge'] = df3['take_revenge'].map(neg_rec_mapping2)\n",
    "df4['take_revenge'] = df4['take_revenge'].map(neg_rec_mapping4)\n",
    "df5['take_revenge'] = df5['take_revenge'].map(neg_rec_mapping5)\n",
    "df6['take_revenge'] = df6['take_revenge'].map(neg_rec_mapping6)\n",
    "#df7['take_revenge'] = df7['take_revenge'].map(revenge_mapping)\n",
    "\n",
    "\n",
    "df0['similar_problems'] = df0['similar_problems'].map(neg_rec_mapping)\n",
    "df1['similar_problems'] = df1['similar_problems'].map(neg_rec_mapping1)\n",
    "df2['similar_problems'] = df2['similar_problems'].map(neg_rec_mapping2)\n",
    "df3['similar_problems'] = df3['similar_problems'].map(neg_rec_mapping2)\n",
    "df4['similar_problems'] = df4['similar_problems'].map(neg_rec_mapping4_1)\n",
    "df5['similar_problems'] = df5['similar_problems'].map(neg_rec_mapping5)\n",
    "df6['similar_problems'] = df6['similar_problems'].map(neg_rec_mapping6)\n",
    "#df7['similar_problems'] = df7['similar_problems'].map(similar_problems_mapping)\n",
    "\n",
    "df0['insult_back'] = df0['insult_back'].map(neg_rec_mapping)\n",
    "df1['insult_back'] = df1['insult_back'].map(neg_rec_mapping1)\n",
    "df2['insult_back'] = df2['insult_back'].map(neg_rec_mapping2)\n",
    "df3['insult_back'] = df3['insult_back'].map(neg_rec_mapping2)\n",
    "df4['insult_back'] = df4['insult_back'].map(neg_rec_mapping4_1)\n",
    "df5['insult_back'] = df5['insult_back'].map(neg_rec_mapping5)\n",
    "df6['insult_back'] = df6['insult_back'].map(neg_rec_mapping6)\n",
    "#df7['insult_back'] = df7['insult_back'].map(insult_back_mapping)"
   ]
  },
  {
   "cell_type": "code",
   "execution_count": 687,
   "metadata": {},
   "outputs": [],
   "source": [
    "df0 = df0.mask(df0 < 0, np.nan)\n",
    "df1 = df1.mask(df1 < 0, np.nan)\n",
    "df2 = df2.mask(df2 < 0, np.nan)\n",
    "df3 = df3.mask(df3 < 0, np.nan)\n",
    "df4 = df4.mask(df4 < 0, np.nan)\n",
    "df5 = df5.mask(df5 < 0, np.nan)\n",
    "df6 = df6.mask(df6 < 0, np.nan)\n",
    "#df7 = df7.mask(df7 < 0, np.nan)"
   ]
  },
  {
   "cell_type": "code",
   "execution_count": 695,
   "metadata": {},
   "outputs": [],
   "source": [
    "df0['avg_rec'] = df0[['take_revenge', 'similar_problems', 'insult_back']].mean(axis=1)\n",
    "df1['avg_rec'] = df1[['take_revenge', 'similar_problems', 'insult_back']].mean(axis=1)\n",
    "df2['avg_rec'] = df2[['take_revenge', 'similar_problems', 'insult_back']].mean(axis=1)\n",
    "df3['avg_rec'] = df3[['take_revenge', 'similar_problems', 'insult_back']].mean(axis=1)\n",
    "df4['avg_rec'] = df4[['take_revenge', 'similar_problems', 'insult_back']].mean(axis=1)\n",
    "df5['avg_rec'] = df5[['take_revenge', 'similar_problems', 'insult_back']].mean(axis=1)\n",
    "df6['avg_rec'] = df6[['take_revenge', 'similar_problems', 'insult_back']].mean(axis=1)\n",
    "#df7['avg_rec'] = df7[['take_revenge', 'similar_problems', 'insult_back']].mean(axis=1)"
   ]
  },
  {
   "cell_type": "code",
   "execution_count": 696,
   "metadata": {},
   "outputs": [],
   "source": [
    "df = pd.merge(df0[[\"avg_rec\"]], df1[[\"avg_rec\"]], how= 'outer',\n",
    "                       left_on=[\"pid\", \"hid\",], right_on=[\"pid\", \"hid\"])"
   ]
  },
  {
   "cell_type": "code",
   "execution_count": 697,
   "metadata": {},
   "outputs": [],
   "source": [
    "df = pd.merge(df2[[\"avg_rec\"]], df, how='outer',\n",
    "                       left_on=[\"pid\", \"hid\",], right_on=[\"pid\", \"hid\"])"
   ]
  },
  {
   "cell_type": "code",
   "execution_count": 698,
   "metadata": {},
   "outputs": [],
   "source": [
    "df = pd.merge(df3[[\"avg_rec\"]], df, how='outer',\n",
    "                       left_on=[\"pid\", \"hid\",], right_on=[\"pid\", \"hid\"])"
   ]
  },
  {
   "cell_type": "code",
   "execution_count": 699,
   "metadata": {},
   "outputs": [],
   "source": [
    "df = pd.merge(df4[[\"avg_rec\"]], df, how='outer',\n",
    "                       left_on=[\"pid\", \"hid\",], right_on=[\"pid\", \"hid\"])"
   ]
  },
  {
   "cell_type": "code",
   "execution_count": 700,
   "metadata": {},
   "outputs": [],
   "source": [
    "df = pd.merge(df5[[\"avg_rec\"]], df, how='outer',\n",
    "                       left_on=[\"pid\", \"hid\",], right_on=[\"pid\", \"hid\"])"
   ]
  },
  {
   "cell_type": "code",
   "execution_count": 701,
   "metadata": {},
   "outputs": [],
   "source": [
    "df = pd.merge(df6[[\"avg_rec\"]], df, how='outer',\n",
    "                       left_on=[\"pid\", \"hid\",], right_on=[\"pid\", \"hid\"])"
   ]
  },
  {
   "cell_type": "code",
   "execution_count": 703,
   "metadata": {},
   "outputs": [],
   "source": [
    "df = df.dropna(how= 'all')\n",
    "#drop all rows which contain only NaN"
   ]
  },
  {
   "cell_type": "code",
   "execution_count": 841,
   "metadata": {},
   "outputs": [],
   "source": [
    "means = df.mean(axis=1)"
   ]
  },
  {
   "cell_type": "code",
   "execution_count": 842,
   "metadata": {},
   "outputs": [],
   "source": [
    "# c counts how many times someone answered the questions about negative reciprocity\n",
    "c = means * 0\n",
    "df_new = pd.merge(df, c.rename(\"count\"),\n",
    "                  left_on = [\"pid\", \"hid\",], right_on=[\"pid\", \"hid\"])\n",
    "df_new = pd.merge(df_new, means.rename(\"mean\"),\n",
    "                  left_on = [\"pid\", \"hid\",], right_on=[\"pid\", \"hid\"])"
   ]
  },
  {
   "cell_type": "code",
   "execution_count": 843,
   "metadata": {},
   "outputs": [],
   "source": [
    "for x in range(len(means)):\n",
    "     for i in range(7):\n",
    "        if df_new.iloc[x][i] >= 0: \n",
    "            df_new.iloc[x][\"count\"] +=1"
   ]
  },
  {
   "cell_type": "code",
   "execution_count": 845,
   "metadata": {},
   "outputs": [],
   "source": [
    "#drops all people who answered less than two times\n",
    "df_new.drop(df_new[df_new['count'] < 2].index, inplace = True)"
   ]
  },
  {
   "cell_type": "code",
   "execution_count": 847,
   "metadata": {},
   "outputs": [],
   "source": [
    "#lower and upper bound in for which avg_rec is still considered stable depending on which range (a) is considered stable\n",
    "a = 1\n",
    "lower_bound = df_new[\"mean\"] - a\n",
    "upper_bound = df_new[\"mean\"] + a\n",
    "counter = df_new[\"mean\"] * 0"
   ]
  },
  {
   "cell_type": "code",
   "execution_count": 848,
   "metadata": {},
   "outputs": [],
   "source": [
    "#goes through all values of avg_rec and sets counter to 1 for the individual if one is outside the boundaries\n",
    "for x in range(len(df_new)):\n",
    "    for i in range(7):\n",
    "        if df_new.iloc[x][i] < lower_bound.iloc[x] or df_new.iloc[x][i] > upper_bound.iloc[x]:\n",
    "            counter[x] = 1"
   ]
  },
  {
   "cell_type": "code",
   "execution_count": 850,
   "metadata": {},
   "outputs": [
    {
     "data": {
      "text/plain": [
       "0.2498673036093418"
      ]
     },
     "execution_count": 850,
     "metadata": {},
     "output_type": "execute_result"
    }
   ],
   "source": [
    "#percentage of individuals whose avgerage reciprocity is not stable\n",
    "np.count_nonzero(counter)/len(df_new)"
   ]
  },
  {
   "cell_type": "markdown",
   "metadata": {},
   "source": [
    "The problem here is that there are at most 3 values of negative reciprocity for each individual which is not a significant amount to see if a variable is stable over time."
   ]
  }
 ],
 "metadata": {
  "kernelspec": {
   "display_name": "Python 3",
   "language": "python",
   "name": "python3"
  },
  "language_info": {
   "codemirror_mode": {
    "name": "ipython",
    "version": 3
   },
   "file_extension": ".py",
   "mimetype": "text/x-python",
   "name": "python",
   "nbconvert_exporter": "python",
   "pygments_lexer": "ipython3",
   "version": "3.7.3"
  }
 },
 "nbformat": 4,
 "nbformat_minor": 2
}
